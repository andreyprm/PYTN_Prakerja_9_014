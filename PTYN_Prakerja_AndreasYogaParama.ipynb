{
  "nbformat": 4,
  "nbformat_minor": 0,
  "metadata": {
    "kernelspec": {
      "display_name": "Python 3",
      "language": "python",
      "name": "python3"
    },
    "language_info": {
      "codemirror_mode": {
        "name": "ipython",
        "version": 3
      },
      "file_extension": ".py",
      "mimetype": "text/x-python",
      "name": "python",
      "nbconvert_exporter": "python",
      "pygments_lexer": "ipython3",
      "version": "3.7.4"
    },
    "colab": {
      "name": "PTYN_Prakerja_AndreasYogaParama.ipynb",
      "provenance": [],
      "collapsed_sections": [
        "YDWo9JJR4eS9",
        "F1MyIgHI4eS-",
        "08dhwJ0U4eS_",
        "zJJzj1L74eS_"
      ],
      "include_colab_link": true
    }
  },
  "cells": [
    {
      "cell_type": "markdown",
      "metadata": {
        "id": "view-in-github",
        "colab_type": "text"
      },
      "source": [
        "<a href=\"https://colab.research.google.com/github/andreyprm/PYTN_Prakerja_9_014/blob/main/PTYN_Prakerja_AndreasYogaParama.ipynb\" target=\"_parent\"><img src=\"https://colab.research.google.com/assets/colab-badge.svg\" alt=\"Open In Colab\"/></a>"
      ]
    },
    {
      "cell_type": "markdown",
      "metadata": {
        "id": "iulBOiML4eSm"
      },
      "source": [
        "<b>Hacktiv8 Kartu Prakerja Final Project Notebook</b>\n",
        "    \n",
        "Dalam notebook ini saya mengerjakan proyek akhir dari <b> Hacktiv8 Kartu Prakerja course \"Belajar Mengembangkan Model Database dengan Python untuk Menjadi Analis Database\"</b>.\\\n",
        "Dataset yang dipakai berjudul \"Heart Disease UCI\" yang diunduh dari : \\\n",
        "https://www.kaggle.com/ronitf/heart-disease-uci\n",
        "\n",
        "<b>by : Andreas Yoga Parama\\\n",
        "PYTN-PKJ-09-014</b>\n"
      ]
    },
    {
      "cell_type": "markdown",
      "metadata": {
        "id": "DQvK1Blt4eSs"
      },
      "source": [
        "<b>Feature attribute information</b>\n",
        "\n",
        "1.\tage: usia dalam tahun\n",
        "2.\tsex: jenis kelamin (1 = laki-laki, 0 = perempuan)\n",
        "3.\tcp: tipe penyakit dada yg dialami (Value 1: typical angina, Value 2: atypical angina, Value 3: non-anginal pain, Value 4: asymptomatic)\n",
        "4.\ttrestbps: tekanan darah kondisi normal (mm Hg saat masuk rumah sakit)\n",
        "5.\tchol: tingkat kolestrol dalam mg/dl\n",
        "6.\tfbs: gula darah dalam kondisi puasa (> 120 mg/dl, 1 = true; 0 = false)\n",
        "7.\trestecg: pengukuran elektrokardiograf\n",
        "<br>(0 = normal, 1 = having ST-T wave abnormality, 2 = showing probable or definite left ventricular hypertrophy by Estes' criteria)\n",
        "8.\tthalach: jumlah detak jantung maksimum\n",
        "9.\texang: Exercise induced angina (1 = yes; 0 = no)\n",
        "10.\toldpeak: ST depression induced by exercise relative to rest ('ST' relates to positions on the ECG plot. See more here)\n",
        "11.\tslope: the slope of the peak exercise ST segment (Value 1: upsloping, Value 2: flat, Value 3: downsloping)\n",
        "12.\tca: The number of major vessels (0-3)\n",
        "13.\tthal: kelainan darah berupa thalassemia (3 = normal; 6 = fixed defect; 7 = reversable defect)\n",
        "14.\ttarget: keadaan penyakit jantung (0 = no/tidak ada, 1 = yes/ada)"
      ]
    },
    {
      "cell_type": "code",
      "metadata": {
        "id": "mJZciJfh4eSt"
      },
      "source": [
        "import pandas as pd\n",
        "import numpy as np\n",
        "import matplotlib.pyplot as plt\n",
        "import seaborn as sns\n",
        "sns.set_style('whitegrid')\n",
        "%matplotlib inline\n",
        "\n",
        "import warnings\n",
        "warnings.filterwarnings(\"ignore\")"
      ],
      "execution_count": 1,
      "outputs": []
    },
    {
      "cell_type": "markdown",
      "metadata": {
        "id": "ys0mw0I54eSv"
      },
      "source": [
        "### import dataset"
      ]
    },
    {
      "cell_type": "code",
      "metadata": {
        "colab": {
          "base_uri": "https://localhost:8080/",
          "height": 206
        },
        "id": "KznBpPY04eSw",
        "outputId": "837daaf5-ed56-4f41-c125-747b2894417f"
      },
      "source": [
        "url_a = 'https://drive.google.com/file/d/1mJ-noOJI3CmBdGdttYdWDC5lxT4zM-9z/view?usp=sharing'\n",
        "url = 'https://drive.google.com/uc?id=' + url_a.split('/')[-2]\n",
        "df = pd.read_csv(url)\n",
        "df.head()"
      ],
      "execution_count": 2,
      "outputs": [
        {
          "output_type": "execute_result",
          "data": {
            "text/html": [
              "<div>\n",
              "<style scoped>\n",
              "    .dataframe tbody tr th:only-of-type {\n",
              "        vertical-align: middle;\n",
              "    }\n",
              "\n",
              "    .dataframe tbody tr th {\n",
              "        vertical-align: top;\n",
              "    }\n",
              "\n",
              "    .dataframe thead th {\n",
              "        text-align: right;\n",
              "    }\n",
              "</style>\n",
              "<table border=\"1\" class=\"dataframe\">\n",
              "  <thead>\n",
              "    <tr style=\"text-align: right;\">\n",
              "      <th></th>\n",
              "      <th>age</th>\n",
              "      <th>sex</th>\n",
              "      <th>cp</th>\n",
              "      <th>trestbps</th>\n",
              "      <th>chol</th>\n",
              "      <th>fbs</th>\n",
              "      <th>restecg</th>\n",
              "      <th>thalach</th>\n",
              "      <th>exang</th>\n",
              "      <th>oldpeak</th>\n",
              "      <th>slope</th>\n",
              "      <th>ca</th>\n",
              "      <th>thal</th>\n",
              "      <th>target</th>\n",
              "    </tr>\n",
              "  </thead>\n",
              "  <tbody>\n",
              "    <tr>\n",
              "      <th>0</th>\n",
              "      <td>63</td>\n",
              "      <td>1</td>\n",
              "      <td>3</td>\n",
              "      <td>145</td>\n",
              "      <td>233</td>\n",
              "      <td>1</td>\n",
              "      <td>0</td>\n",
              "      <td>150</td>\n",
              "      <td>0</td>\n",
              "      <td>2.3</td>\n",
              "      <td>0</td>\n",
              "      <td>0</td>\n",
              "      <td>1</td>\n",
              "      <td>1</td>\n",
              "    </tr>\n",
              "    <tr>\n",
              "      <th>1</th>\n",
              "      <td>37</td>\n",
              "      <td>1</td>\n",
              "      <td>2</td>\n",
              "      <td>130</td>\n",
              "      <td>250</td>\n",
              "      <td>0</td>\n",
              "      <td>1</td>\n",
              "      <td>187</td>\n",
              "      <td>0</td>\n",
              "      <td>3.5</td>\n",
              "      <td>0</td>\n",
              "      <td>0</td>\n",
              "      <td>2</td>\n",
              "      <td>1</td>\n",
              "    </tr>\n",
              "    <tr>\n",
              "      <th>2</th>\n",
              "      <td>41</td>\n",
              "      <td>0</td>\n",
              "      <td>1</td>\n",
              "      <td>130</td>\n",
              "      <td>204</td>\n",
              "      <td>0</td>\n",
              "      <td>0</td>\n",
              "      <td>172</td>\n",
              "      <td>0</td>\n",
              "      <td>1.4</td>\n",
              "      <td>2</td>\n",
              "      <td>0</td>\n",
              "      <td>2</td>\n",
              "      <td>1</td>\n",
              "    </tr>\n",
              "    <tr>\n",
              "      <th>3</th>\n",
              "      <td>56</td>\n",
              "      <td>1</td>\n",
              "      <td>1</td>\n",
              "      <td>120</td>\n",
              "      <td>236</td>\n",
              "      <td>0</td>\n",
              "      <td>1</td>\n",
              "      <td>178</td>\n",
              "      <td>0</td>\n",
              "      <td>0.8</td>\n",
              "      <td>2</td>\n",
              "      <td>0</td>\n",
              "      <td>2</td>\n",
              "      <td>1</td>\n",
              "    </tr>\n",
              "    <tr>\n",
              "      <th>4</th>\n",
              "      <td>57</td>\n",
              "      <td>0</td>\n",
              "      <td>0</td>\n",
              "      <td>120</td>\n",
              "      <td>354</td>\n",
              "      <td>0</td>\n",
              "      <td>1</td>\n",
              "      <td>163</td>\n",
              "      <td>1</td>\n",
              "      <td>0.6</td>\n",
              "      <td>2</td>\n",
              "      <td>0</td>\n",
              "      <td>2</td>\n",
              "      <td>1</td>\n",
              "    </tr>\n",
              "  </tbody>\n",
              "</table>\n",
              "</div>"
            ],
            "text/plain": [
              "   age  sex  cp  trestbps  chol  fbs  ...  exang  oldpeak  slope  ca  thal  target\n",
              "0   63    1   3       145   233    1  ...      0      2.3      0   0     1       1\n",
              "1   37    1   2       130   250    0  ...      0      3.5      0   0     2       1\n",
              "2   41    0   1       130   204    0  ...      0      1.4      2   0     2       1\n",
              "3   56    1   1       120   236    0  ...      0      0.8      2   0     2       1\n",
              "4   57    0   0       120   354    0  ...      1      0.6      2   0     2       1\n",
              "\n",
              "[5 rows x 14 columns]"
            ]
          },
          "metadata": {},
          "execution_count": 2
        }
      ]
    },
    {
      "cell_type": "code",
      "metadata": {
        "colab": {
          "base_uri": "https://localhost:8080/"
        },
        "id": "6b105x354eSy",
        "outputId": "c4698027-63cd-4b1c-9b80-9dc8f95a4709"
      },
      "source": [
        "df.shape"
      ],
      "execution_count": 3,
      "outputs": [
        {
          "output_type": "execute_result",
          "data": {
            "text/plain": [
              "(303, 14)"
            ]
          },
          "metadata": {},
          "execution_count": 3
        }
      ]
    },
    {
      "cell_type": "code",
      "metadata": {
        "colab": {
          "base_uri": "https://localhost:8080/"
        },
        "id": "wpjpOwsb4eSy",
        "outputId": "3ce7d51d-6261-449d-bdb4-fe62e52f1c3b"
      },
      "source": [
        "df.info()"
      ],
      "execution_count": 4,
      "outputs": [
        {
          "output_type": "stream",
          "name": "stdout",
          "text": [
            "<class 'pandas.core.frame.DataFrame'>\n",
            "RangeIndex: 303 entries, 0 to 302\n",
            "Data columns (total 14 columns):\n",
            " #   Column    Non-Null Count  Dtype  \n",
            "---  ------    --------------  -----  \n",
            " 0   age       303 non-null    int64  \n",
            " 1   sex       303 non-null    int64  \n",
            " 2   cp        303 non-null    int64  \n",
            " 3   trestbps  303 non-null    int64  \n",
            " 4   chol      303 non-null    int64  \n",
            " 5   fbs       303 non-null    int64  \n",
            " 6   restecg   303 non-null    int64  \n",
            " 7   thalach   303 non-null    int64  \n",
            " 8   exang     303 non-null    int64  \n",
            " 9   oldpeak   303 non-null    float64\n",
            " 10  slope     303 non-null    int64  \n",
            " 11  ca        303 non-null    int64  \n",
            " 12  thal      303 non-null    int64  \n",
            " 13  target    303 non-null    int64  \n",
            "dtypes: float64(1), int64(13)\n",
            "memory usage: 33.3 KB\n"
          ]
        }
      ]
    },
    {
      "cell_type": "markdown",
      "metadata": {
        "id": "fXjDXoPZ_z1e"
      },
      "source": [
        "dari informasi diatas diketahui bahwa dataset terdiri atas 303 baris/entri dan tidak mengandung data kosong atau null value. Jenis data semuanya numerik, meskipun ada yang berupa data kontinu dan ada yang diskrit(kategori)."
      ]
    },
    {
      "cell_type": "markdown",
      "metadata": {
        "id": "jgo8lNhz4eS1"
      },
      "source": [
        "## Data Explorations"
      ]
    },
    {
      "cell_type": "code",
      "metadata": {
        "colab": {
          "base_uri": "https://localhost:8080/",
          "height": 390
        },
        "id": "39dCms08Badr",
        "outputId": "5f0a66c3-3a49-4b93-ee31-8a2dbd5ddc77"
      },
      "source": [
        "df_corr = df.corr()['target'][:-1]\n",
        "\n",
        "plt.figure(figsize=(7,6))\n",
        "df_corr.plot(kind='barh', color='green')\n",
        "plt.title('Korelasi antara Feature dengan Target')\n",
        "plt.show()"
      ],
      "execution_count": 5,
      "outputs": [
        {
          "output_type": "display_data",
          "data": {
            "image/png": "[encoded data removed]",
            "text/plain": [
              "<Figure size 504x432 with 1 Axes>"
            ]
          },
          "metadata": {
            "needs_background": "light"
          }
        }
      ]
    },
    {
      "cell_type": "markdown",
      "metadata": {
        "id": "f6y5_zrp4w9L"
      },
      "source": [
        "grafik diatas menunjukkan kolom feature dengan korelasi tertinggi terhadap target"
      ]
    },
    {
      "cell_type": "code",
      "metadata": {
        "colab": {
          "base_uri": "https://localhost:8080/",
          "height": 295
        },
        "id": "w3LYw8ic4eS3",
        "outputId": "d3054c56-4d8e-4858-a44c-92c656b88c1f"
      },
      "source": [
        "sns.distplot(df['age'])\n",
        "plt.title(\"Distribusi Usia pada Dataset\")\n",
        "plt.xlabel(\"Usia\")\n",
        "plt.ylabel(\"Frekuensi\")\n",
        "plt.show()"
      ],
      "execution_count": 6,
      "outputs": [
        {
          "output_type": "display_data",
          "data": {
            "image/png": "[encoded data removed]",
            "text/plain": [
              "<Figure size 432x288 with 1 Axes>"
            ]
          },
          "metadata": {
            "needs_background": "light"
          }
        }
      ]
    },
    {
      "cell_type": "markdown",
      "metadata": {
        "id": "pRGq6Uysvcq9"
      },
      "source": [
        "Grafik diatas menunjukkan distribusi usia dari dataset yang mana dapat disimpulkan data dalam distribusi normal (garis membentuk seperti lonceng) atau bell-curve. "
      ]
    },
    {
      "cell_type": "markdown",
      "metadata": {
        "id": "SkG6QQu7etil"
      },
      "source": [
        "<b>Perbandingan Target Positif dan Negatif dalam Data.</b>"
      ]
    },
    {
      "cell_type": "markdown",
      "metadata": {
        "id": "QY4CgbypuDUl"
      },
      "source": [
        ""
      ]
    },
    {
      "cell_type": "code",
      "metadata": {
        "id": "wB0j_Fe9fQs1"
      },
      "source": [
        "df_g = df\n",
        "\n",
        "df_g['target'] = df_g['target'].map({0:'Negative',\n",
        "                                     1:'Positive'})\n",
        "\n",
        "df_g['sex'] = df_g['sex'].map({0:'Perempuan',\n",
        "                               1:'Laki-Laki'})"
      ],
      "execution_count": 7,
      "outputs": []
    },
    {
      "cell_type": "code",
      "metadata": {
        "colab": {
          "base_uri": "https://localhost:8080/",
          "height": 352
        },
        "id": "2KOTRQpKU5_r",
        "outputId": "e8ba277f-1d79-4c09-f4e5-3a3a7dab8777"
      },
      "source": [
        "print('target class count :')\n",
        "print(df_g['target'].value_counts())\n",
        "\n",
        "graph1 = sns.countplot(df_g['target'],palette=\"RdBu\")\n",
        "plt.show()"
      ],
      "execution_count": 8,
      "outputs": [
        {
          "output_type": "stream",
          "name": "stdout",
          "text": [
            "target class count :\n",
            "Positive    165\n",
            "Negative    138\n",
            "Name: target, dtype: int64\n"
          ]
        },
        {
          "output_type": "display_data",
          "data": {
            "image/png": "[encoded data removed]",
            "text/plain": [
              "<Figure size 432x288 with 1 Axes>"
            ]
          },
          "metadata": {
            "needs_background": "light"
          }
        }
      ]
    },
    {
      "cell_type": "markdown",
      "metadata": {
        "id": "jjckNCT5uQA9"
      },
      "source": [
        "dari data diatas dapat diambil kesimpulan bahwa proporsi antara kelas positif dan negatif tidak terlalu timpang. Selisih 27 entri data dalam pandangan saya masih dapat ditoleransi untuk kasus ini sehingga tidak dilakukan pre-proses data dengan oversampling."
      ]
    },
    {
      "cell_type": "code",
      "metadata": {
        "colab": {
          "base_uri": "https://localhost:8080/",
          "height": 477
        },
        "id": "lEi3fscNNR8U",
        "outputId": "d6756116-c208-408e-b694-e2da3aadd3c2"
      },
      "source": [
        "print(df_g['sex'].value_counts(),'\\n')\n",
        "\n",
        "plt.figure(figsize=(8,6))\n",
        "sns.countplot(data=df, x='target',hue='sex', palette=\"RdBu\")\n",
        "plt.title(\"Target vs Sex Distribution\")\n",
        "plt.xlabel(\"sex\")\n",
        "plt.ylabel(\"jumlah\")\n",
        "plt.show()"
      ],
      "execution_count": 9,
      "outputs": [
        {
          "output_type": "stream",
          "name": "stdout",
          "text": [
            "Laki-Laki    207\n",
            "Perempuan     96\n",
            "Name: sex, dtype: int64 \n",
            "\n"
          ]
        },
        {
          "output_type": "display_data",
          "data": {
            "image/png": "[encoded data removed]",
            "text/plain": [
              "<Figure size 576x432 with 1 Axes>"
            ]
          },
          "metadata": {
            "needs_background": "light"
          }
        }
      ]
    },
    {
      "cell_type": "markdown",
      "metadata": {
        "id": "s2GtO3py4eS4"
      },
      "source": [
        "dari grafik diatas dapat diambil kesimpulan awal bahwa laki-laki memiliki kecenderungan lebih tinggi untuk memiliki penyakit jantung dibanding perempuan. Namun, kesimpulan ini dapat terjadi bias karena dalam dataset ini jumlah populasi laki-laki lebih dominan daripada perempuan. "
      ]
    },
    {
      "cell_type": "markdown",
      "metadata": {
        "id": "COf3CydbBiM0"
      },
      "source": [
        "### Cleaning Outlier\n",
        "\n",
        "membersihkan outlier di dua kolom yaitu trestbps dan chol yang meiliki data pencilan yang cukup jauh diatas batas atas data."
      ]
    },
    {
      "cell_type": "code",
      "metadata": {
        "scrolled": false,
        "colab": {
          "base_uri": "https://localhost:8080/",
          "height": 582
        },
        "id": "TQw9iIKC4eS4",
        "outputId": "95c1fa39-adbe-4436-dbb8-98477764e14e"
      },
      "source": [
        "c = ['trestbps','chol']\n",
        "\n",
        "for i in c:\n",
        "    print(sns.boxplot(data=df[i], orient=\"h\", color='red'))\n",
        "    plt.title(i)\n",
        "    plt.show()"
      ],
      "execution_count": 10,
      "outputs": [
        {
          "output_type": "stream",
          "name": "stdout",
          "text": [
            "AxesSubplot(0.125,0.125;0.775x0.755)\n"
          ]
        },
        {
          "output_type": "display_data",
          "data": {
            "image/png": "[encoded data removed]",
            "text/plain": [
              "<Figure size 432x288 with 1 Axes>"
            ]
          },
          "metadata": {
            "needs_background": "light"
          }
        },
        {
          "output_type": "stream",
          "name": "stdout",
          "text": [
            "AxesSubplot(0.125,0.125;0.775x0.755)\n"
          ]
        },
        {
          "output_type": "display_data",
          "data": {
            "image/png": "[encoded data removed]",
            "text/plain": [
              "<Figure size 432x288 with 1 Axes>"
            ]
          },
          "metadata": {
            "needs_background": "light"
          }
        }
      ]
    },
    {
      "cell_type": "code",
      "metadata": {
        "id": "dI2n287I4eS5"
      },
      "source": [
        "Q1 = np.percentile(df['chol'], 25)\n",
        "Q3 = np.percentile(df['chol'], 75)\n",
        "IQR = Q3-Q1\n",
        "up_limit_ch = Q3 + (1.5 * IQR) \n",
        "lo_limit_ch = Q1 - (1.5 * IQR)"
      ],
      "execution_count": 11,
      "outputs": []
    },
    {
      "cell_type": "code",
      "metadata": {
        "id": "v65SBO294eS6"
      },
      "source": [
        "Q1 = np.percentile(df['trestbps'], 25)\n",
        "Q3 = np.percentile(df['trestbps'], 75)\n",
        "IQR = Q3-Q1\n",
        "up_limit_tr = Q3 + (1.5 * IQR) \n",
        "lo_limit_tr = Q1 - (1.5 * IQR)"
      ],
      "execution_count": 12,
      "outputs": []
    },
    {
      "cell_type": "code",
      "metadata": {
        "id": "6crWa2ke4eS6"
      },
      "source": [
        "df_a = df[(df['trestbps'] > lo_limit_tr) & (df['trestbps'] < up_limit_tr) & (df['chol'] > lo_limit_ch) & (df['chol'] < up_limit_ch)]"
      ],
      "execution_count": 13,
      "outputs": []
    },
    {
      "cell_type": "code",
      "metadata": {
        "id": "AdR1NvpH4eS6",
        "colab": {
          "base_uri": "https://localhost:8080/",
          "height": 582
        },
        "outputId": "fcaf6e78-3969-41f2-b873-76bd78908c75"
      },
      "source": [
        "for i in c:\n",
        "    print(sns.boxplot(data=df_a[i], orient=\"h\", color='red'))\n",
        "    plt.title(i)\n",
        "    plt.show()"
      ],
      "execution_count": 14,
      "outputs": [
        {
          "output_type": "stream",
          "name": "stdout",
          "text": [
            "AxesSubplot(0.125,0.125;0.775x0.755)\n"
          ]
        },
        {
          "output_type": "display_data",
          "data": {
            "image/png": "[encoded data removed]",
            "text/plain": [
              "<Figure size 432x288 with 1 Axes>"
            ]
          },
          "metadata": {
            "needs_background": "light"
          }
        },
        {
          "output_type": "stream",
          "name": "stdout",
          "text": [
            "AxesSubplot(0.125,0.125;0.775x0.755)\n"
          ]
        },
        {
          "output_type": "display_data",
          "data": {
            "image/png": "[encoded data removed]",
            "text/plain": [
              "<Figure size 432x288 with 1 Axes>"
            ]
          },
          "metadata": {
            "needs_background": "light"
          }
        }
      ]
    },
    {
      "cell_type": "markdown",
      "metadata": {
        "id": "dE5_P0WI-0OE"
      },
      "source": [
        "setelah kita menghapus outlier maka terlihat data di dua kolom tersebut sudah bersih dari data pencilan dimana sudah tidak ada point data yang jauh melewati garis batas atas maupun batas bawah. Data yang sudah bersih dari pencilan ini dapat digunakan untuk melatih learning model."
      ]
    },
    {
      "cell_type": "markdown",
      "metadata": {
        "id": "eJibJBnV4eS7"
      },
      "source": [
        "### Train Test Split"
      ]
    },
    {
      "cell_type": "markdown",
      "metadata": {
        "id": "qnsEwHrXstW-"
      },
      "source": [
        "Train test split digunakan untuk memisahkan data antara data latihan (x_traini, y_train) dan data testing (y_test, x_test). Saya membagi data dengan proporsi 70 : 30 dan menggunakan random state 101 untuk mengacak pengambilan data.\n",
        "\n",
        "Langkah yang pertama dilakukan adalah memastikan semua feature di dalam dataset direkam dalam format numerik, karena sebelumnya ada dua kolom yang kita ubah value nya untuk memudahkan visualisasi maka di langkah ini kita kembalikan ke dalam numerik, berupa kategori 0 dan 1. cara ini dapat digunakan apabila jumlah value unik data sedikit. Bisa juga menggunakan pd.get_dummies yang akan membagi data non-numerik ke dalam beberapa tabel baru dengan kategori 0 (tidak) atau 1(ya) untuk menyatakan entri tesrebut masuk dalam kategori mana."
      ]
    },
    {
      "cell_type": "code",
      "metadata": {
        "id": "LkEYUESRQ-aT"
      },
      "source": [
        "df_a['target'] = df_a['target'].map({'Positive':1\n",
        "                                 ,'Negative':0})\n",
        "\n",
        "df_a['sex'] = df_a['sex'].map({'Perempuan':0,\n",
        "                           'Laki-Laki':1})"
      ],
      "execution_count": 15,
      "outputs": []
    },
    {
      "cell_type": "code",
      "metadata": {
        "id": "zmnSxJo14eS7"
      },
      "source": [
        "feature = df_a.drop('target', axis=1)\n",
        "target  = df_a['target']"
      ],
      "execution_count": 16,
      "outputs": []
    },
    {
      "cell_type": "code",
      "metadata": {
        "id": "u7pXvojz4eS7"
      },
      "source": [
        "from sklearn.model_selection import train_test_split\n",
        "\n",
        "x_train, x_test, y_train, y_test = train_test_split(feature, target, random_state=101, test_size=0.3)"
      ],
      "execution_count": 17,
      "outputs": []
    },
    {
      "cell_type": "code",
      "metadata": {
        "id": "MDTK1FP94eS8"
      },
      "source": [
        "from sklearn.metrics import classification_report, confusion_matrix"
      ],
      "execution_count": 18,
      "outputs": []
    },
    {
      "cell_type": "code",
      "metadata": {
        "colab": {
          "base_uri": "https://localhost:8080/",
          "height": 424
        },
        "id": "yhL4BkLC6Lwa",
        "outputId": "d5156571-7152-4471-d1ef-230c098550e0"
      },
      "source": [
        "df_a"
      ],
      "execution_count": 19,
      "outputs": [
        {
          "output_type": "execute_result",
          "data": {
            "text/html": [
              "<div>\n",
              "<style scoped>\n",
              "    .dataframe tbody tr th:only-of-type {\n",
              "        vertical-align: middle;\n",
              "    }\n",
              "\n",
              "    .dataframe tbody tr th {\n",
              "        vertical-align: top;\n",
              "    }\n",
              "\n",
              "    .dataframe thead th {\n",
              "        text-align: right;\n",
              "    }\n",
              "</style>\n",
              "<table border=\"1\" class=\"dataframe\">\n",
              "  <thead>\n",
              "    <tr style=\"text-align: right;\">\n",
              "      <th></th>\n",
              "      <th>age</th>\n",
              "      <th>sex</th>\n",
              "      <th>cp</th>\n",
              "      <th>trestbps</th>\n",
              "      <th>chol</th>\n",
              "      <th>fbs</th>\n",
              "      <th>restecg</th>\n",
              "      <th>thalach</th>\n",
              "      <th>exang</th>\n",
              "      <th>oldpeak</th>\n",
              "      <th>slope</th>\n",
              "      <th>ca</th>\n",
              "      <th>thal</th>\n",
              "      <th>target</th>\n",
              "    </tr>\n",
              "  </thead>\n",
              "  <tbody>\n",
              "    <tr>\n",
              "      <th>0</th>\n",
              "      <td>63</td>\n",
              "      <td>1</td>\n",
              "      <td>3</td>\n",
              "      <td>145</td>\n",
              "      <td>233</td>\n",
              "      <td>1</td>\n",
              "      <td>0</td>\n",
              "      <td>150</td>\n",
              "      <td>0</td>\n",
              "      <td>2.3</td>\n",
              "      <td>0</td>\n",
              "      <td>0</td>\n",
              "      <td>1</td>\n",
              "      <td>1</td>\n",
              "    </tr>\n",
              "    <tr>\n",
              "      <th>1</th>\n",
              "      <td>37</td>\n",
              "      <td>1</td>\n",
              "      <td>2</td>\n",
              "      <td>130</td>\n",
              "      <td>250</td>\n",
              "      <td>0</td>\n",
              "      <td>1</td>\n",
              "      <td>187</td>\n",
              "      <td>0</td>\n",
              "      <td>3.5</td>\n",
              "      <td>0</td>\n",
              "      <td>0</td>\n",
              "      <td>2</td>\n",
              "      <td>1</td>\n",
              "    </tr>\n",
              "    <tr>\n",
              "      <th>2</th>\n",
              "      <td>41</td>\n",
              "      <td>0</td>\n",
              "      <td>1</td>\n",
              "      <td>130</td>\n",
              "      <td>204</td>\n",
              "      <td>0</td>\n",
              "      <td>0</td>\n",
              "      <td>172</td>\n",
              "      <td>0</td>\n",
              "      <td>1.4</td>\n",
              "      <td>2</td>\n",
              "      <td>0</td>\n",
              "      <td>2</td>\n",
              "      <td>1</td>\n",
              "    </tr>\n",
              "    <tr>\n",
              "      <th>3</th>\n",
              "      <td>56</td>\n",
              "      <td>1</td>\n",
              "      <td>1</td>\n",
              "      <td>120</td>\n",
              "      <td>236</td>\n",
              "      <td>0</td>\n",
              "      <td>1</td>\n",
              "      <td>178</td>\n",
              "      <td>0</td>\n",
              "      <td>0.8</td>\n",
              "      <td>2</td>\n",
              "      <td>0</td>\n",
              "      <td>2</td>\n",
              "      <td>1</td>\n",
              "    </tr>\n",
              "    <tr>\n",
              "      <th>4</th>\n",
              "      <td>57</td>\n",
              "      <td>0</td>\n",
              "      <td>0</td>\n",
              "      <td>120</td>\n",
              "      <td>354</td>\n",
              "      <td>0</td>\n",
              "      <td>1</td>\n",
              "      <td>163</td>\n",
              "      <td>1</td>\n",
              "      <td>0.6</td>\n",
              "      <td>2</td>\n",
              "      <td>0</td>\n",
              "      <td>2</td>\n",
              "      <td>1</td>\n",
              "    </tr>\n",
              "    <tr>\n",
              "      <th>...</th>\n",
              "      <td>...</td>\n",
              "      <td>...</td>\n",
              "      <td>...</td>\n",
              "      <td>...</td>\n",
              "      <td>...</td>\n",
              "      <td>...</td>\n",
              "      <td>...</td>\n",
              "      <td>...</td>\n",
              "      <td>...</td>\n",
              "      <td>...</td>\n",
              "      <td>...</td>\n",
              "      <td>...</td>\n",
              "      <td>...</td>\n",
              "      <td>...</td>\n",
              "    </tr>\n",
              "    <tr>\n",
              "      <th>298</th>\n",
              "      <td>57</td>\n",
              "      <td>0</td>\n",
              "      <td>0</td>\n",
              "      <td>140</td>\n",
              "      <td>241</td>\n",
              "      <td>0</td>\n",
              "      <td>1</td>\n",
              "      <td>123</td>\n",
              "      <td>1</td>\n",
              "      <td>0.2</td>\n",
              "      <td>1</td>\n",
              "      <td>0</td>\n",
              "      <td>3</td>\n",
              "      <td>0</td>\n",
              "    </tr>\n",
              "    <tr>\n",
              "      <th>299</th>\n",
              "      <td>45</td>\n",
              "      <td>1</td>\n",
              "      <td>3</td>\n",
              "      <td>110</td>\n",
              "      <td>264</td>\n",
              "      <td>0</td>\n",
              "      <td>1</td>\n",
              "      <td>132</td>\n",
              "      <td>0</td>\n",
              "      <td>1.2</td>\n",
              "      <td>1</td>\n",
              "      <td>0</td>\n",
              "      <td>3</td>\n",
              "      <td>0</td>\n",
              "    </tr>\n",
              "    <tr>\n",
              "      <th>300</th>\n",
              "      <td>68</td>\n",
              "      <td>1</td>\n",
              "      <td>0</td>\n",
              "      <td>144</td>\n",
              "      <td>193</td>\n",
              "      <td>1</td>\n",
              "      <td>1</td>\n",
              "      <td>141</td>\n",
              "      <td>0</td>\n",
              "      <td>3.4</td>\n",
              "      <td>1</td>\n",
              "      <td>2</td>\n",
              "      <td>3</td>\n",
              "      <td>0</td>\n",
              "    </tr>\n",
              "    <tr>\n",
              "      <th>301</th>\n",
              "      <td>57</td>\n",
              "      <td>1</td>\n",
              "      <td>0</td>\n",
              "      <td>130</td>\n",
              "      <td>131</td>\n",
              "      <td>0</td>\n",
              "      <td>1</td>\n",
              "      <td>115</td>\n",
              "      <td>1</td>\n",
              "      <td>1.2</td>\n",
              "      <td>1</td>\n",
              "      <td>1</td>\n",
              "      <td>3</td>\n",
              "      <td>0</td>\n",
              "    </tr>\n",
              "    <tr>\n",
              "      <th>302</th>\n",
              "      <td>57</td>\n",
              "      <td>0</td>\n",
              "      <td>1</td>\n",
              "      <td>130</td>\n",
              "      <td>236</td>\n",
              "      <td>0</td>\n",
              "      <td>0</td>\n",
              "      <td>174</td>\n",
              "      <td>0</td>\n",
              "      <td>0.0</td>\n",
              "      <td>1</td>\n",
              "      <td>1</td>\n",
              "      <td>2</td>\n",
              "      <td>0</td>\n",
              "    </tr>\n",
              "  </tbody>\n",
              "</table>\n",
              "<p>285 rows × 14 columns</p>\n",
              "</div>"
            ],
            "text/plain": [
              "     age  sex  cp  trestbps  chol  fbs  ...  exang  oldpeak  slope  ca  thal  target\n",
              "0     63    1   3       145   233    1  ...      0      2.3      0   0     1       1\n",
              "1     37    1   2       130   250    0  ...      0      3.5      0   0     2       1\n",
              "2     41    0   1       130   204    0  ...      0      1.4      2   0     2       1\n",
              "3     56    1   1       120   236    0  ...      0      0.8      2   0     2       1\n",
              "4     57    0   0       120   354    0  ...      1      0.6      2   0     2       1\n",
              "..   ...  ...  ..       ...   ...  ...  ...    ...      ...    ...  ..   ...     ...\n",
              "298   57    0   0       140   241    0  ...      1      0.2      1   0     3       0\n",
              "299   45    1   3       110   264    0  ...      0      1.2      1   0     3       0\n",
              "300   68    1   0       144   193    1  ...      0      3.4      1   2     3       0\n",
              "301   57    1   0       130   131    0  ...      1      1.2      1   1     3       0\n",
              "302   57    0   1       130   236    0  ...      0      0.0      1   1     2       0\n",
              "\n",
              "[285 rows x 14 columns]"
            ]
          },
          "metadata": {},
          "execution_count": 19
        }
      ]
    },
    {
      "cell_type": "markdown",
      "metadata": {
        "id": "mniZ1EYY4eS8"
      },
      "source": [
        "### Logistic Regression"
      ]
    },
    {
      "cell_type": "code",
      "metadata": {
        "id": "0vsNZ-_z4eS8"
      },
      "source": [
        "from sklearn.linear_model import LogisticRegression"
      ],
      "execution_count": 20,
      "outputs": []
    },
    {
      "cell_type": "code",
      "metadata": {
        "scrolled": true,
        "colab": {
          "base_uri": "https://localhost:8080/"
        },
        "id": "UwB-MMdM4eS8",
        "outputId": "e03223ec-ab66-4f11-8b4e-f6c3a7b00fc8"
      },
      "source": [
        "model_lr = LogisticRegression()\n",
        "model_lr.fit(x_train, y_train)"
      ],
      "execution_count": 21,
      "outputs": [
        {
          "output_type": "execute_result",
          "data": {
            "text/plain": [
              "LogisticRegression()"
            ]
          },
          "metadata": {},
          "execution_count": 21
        }
      ]
    },
    {
      "cell_type": "code",
      "metadata": {
        "colab": {
          "base_uri": "https://localhost:8080/"
        },
        "id": "-K7Wil1G4eS8",
        "outputId": "8aaeb294-680e-4120-a452-c726bf14da7f"
      },
      "source": [
        "prediction_lr = model_lr.predict(x_test)\n",
        "print(classification_report(y_test, prediction_lr))"
      ],
      "execution_count": 22,
      "outputs": [
        {
          "output_type": "stream",
          "name": "stdout",
          "text": [
            "              precision    recall  f1-score   support\n",
            "\n",
            "           0       0.94      0.70      0.80        47\n",
            "           1       0.73      0.95      0.82        39\n",
            "\n",
            "    accuracy                           0.81        86\n",
            "   macro avg       0.83      0.83      0.81        86\n",
            "weighted avg       0.84      0.81      0.81        86\n",
            "\n"
          ]
        }
      ]
    },
    {
      "cell_type": "markdown",
      "metadata": {
        "id": "fyGXeZAv6AUp"
      },
      "source": [
        "### AUC ROC Graph"
      ]
    },
    {
      "cell_type": "code",
      "metadata": {
        "id": "nOOGnHWk3d1B"
      },
      "source": [
        "from sklearn.metrics import roc_curve, auc"
      ],
      "execution_count": 23,
      "outputs": []
    },
    {
      "cell_type": "code",
      "metadata": {
        "colab": {
          "base_uri": "https://localhost:8080/"
        },
        "id": "SBOOfHx73eqJ",
        "outputId": "e5a8c2b6-91af-4f12-f44a-f4f92cd9e72a"
      },
      "source": [
        "probs = model_lr.predict_proba(x_test)\n",
        "probability = probs[:,1]\n",
        "fpr, tpr, threshold = roc_curve(y_test, probability, pos_label=1)\n",
        "auc_score = auc(fpr, tpr)\n",
        "auc_score"
      ],
      "execution_count": 24,
      "outputs": [
        {
          "output_type": "execute_result",
          "data": {
            "text/plain": [
              "0.8914348063284234"
            ]
          },
          "metadata": {},
          "execution_count": 24
        }
      ]
    },
    {
      "cell_type": "code",
      "metadata": {
        "colab": {
          "base_uri": "https://localhost:8080/",
          "height": 404
        },
        "id": "8RVWi99m3ei6",
        "outputId": "952279ec-b219-44cb-f382-72f3cf085acc"
      },
      "source": [
        "plt.figure(figsize=(6,6))\n",
        "plt.title('AUROC Graph')\n",
        "plt.plot(fpr, tpr, label='AUC : {}'.format(round(auc_score,2)))\n",
        "plt.plot([0,1], label='no skill', color='red', ls='--')\n",
        "plt.xlabel('False Positive Rate')\n",
        "plt.ylabel('True Positive Rate')\n",
        "plt.show()\n"
      ],
      "execution_count": 25,
      "outputs": [
        {
          "output_type": "display_data",
          "data": {
            "image/png": "[encoded data removed]",
            "text/plain": [
              "<Figure size 432x432 with 1 Axes>"
            ]
          },
          "metadata": {
            "needs_background": "light"
          }
        }
      ]
    },
    {
      "cell_type": "markdown",
      "metadata": {
        "id": "wCFyexv71Zyj"
      },
      "source": [
        "Grafik AUC - ROC digunakan untuk menggambarkan performansi model. \\\n",
        "Garis merah menunjukkan batas minimum model (50:50) dimana model dengan performa setara atau bahkan dibawah ini merupakan model yang jelek, karena prediksinya tidak akurat dan hampir mirip dengan tebakan dengan peluang fifty-fifty. \\\n",
        "Garis biru menunjukkan skor AUC dilihat dari tingkat akurasi true positive, semakin garis ini membentuk sudut siku, maka performa model karena mendekati angka sempurna (1.0)"
      ]
    },
    {
      "cell_type": "markdown",
      "metadata": {
        "id": "IKi_ynnq1Edb"
      },
      "source": [
        ""
      ]
    },
    {
      "cell_type": "code",
      "metadata": {
        "colab": {
          "base_uri": "https://localhost:8080/",
          "height": 279
        },
        "id": "387CXyEL4eS9",
        "outputId": "2cc6194b-1c12-47dc-a47b-4b5ebb6eeb5d"
      },
      "source": [
        "data = {'y_Actual':    y_test,\n",
        "        'y_Predicted': prediction_lr\n",
        "        }\n",
        "\n",
        "df_conf = pd.DataFrame(data, columns=['y_Actual','y_Predicted'])\n",
        "matrix = pd.crosstab(df_conf['y_Actual'], df_conf['y_Predicted'], rownames=['Actual'], colnames=['Predicted'])\n",
        "matrix\n",
        "sns.heatmap(matrix, annot=True, cmap='Greys')\n",
        "plt.show()"
      ],
      "execution_count": 26,
      "outputs": [
        {
          "output_type": "display_data",
          "data": {
            "image/png": "[encoded data removed]",
            "text/plain": [
              "<Figure size 432x288 with 2 Axes>"
            ]
          },
          "metadata": {
            "needs_background": "light"
          }
        }
      ]
    },
    {
      "cell_type": "markdown",
      "metadata": {
        "id": "AV_MA8OC1FPz"
      },
      "source": [
        "Confusion Matrix menunjukkan hasil dari prediksi model di dalam 4 kuadran untuk melihat jumlah data yang diprediksi benar dan yang diprediksi salah."
      ]
    },
    {
      "cell_type": "markdown",
      "metadata": {
        "id": "YDWo9JJR4eS9"
      },
      "source": [
        "### Decision Tree Classifier"
      ]
    },
    {
      "cell_type": "code",
      "metadata": {
        "id": "NioHsi7s4eS9"
      },
      "source": [
        "from sklearn.tree import DecisionTreeClassifier"
      ],
      "execution_count": 27,
      "outputs": []
    },
    {
      "cell_type": "code",
      "metadata": {
        "colab": {
          "base_uri": "https://localhost:8080/"
        },
        "id": "wFOVVZqy4eS9",
        "outputId": "7cd600f8-e3d4-406d-9226-c4698dda893f"
      },
      "source": [
        "model_dt = DecisionTreeClassifier()\n",
        "model_dt.fit(x_train,y_train)"
      ],
      "execution_count": 28,
      "outputs": [
        {
          "output_type": "execute_result",
          "data": {
            "text/plain": [
              "DecisionTreeClassifier()"
            ]
          },
          "metadata": {},
          "execution_count": 28
        }
      ]
    },
    {
      "cell_type": "code",
      "metadata": {
        "colab": {
          "base_uri": "https://localhost:8080/"
        },
        "id": "dM10ThyN4eS9",
        "outputId": "01ea6c1f-a651-4619-eedd-961c8645c8b8"
      },
      "source": [
        "prediction_dt = model_dt.predict(x_test)\n",
        "print(classification_report(y_test, prediction_dt))"
      ],
      "execution_count": 29,
      "outputs": [
        {
          "output_type": "stream",
          "name": "stdout",
          "text": [
            "              precision    recall  f1-score   support\n",
            "\n",
            "           0       0.72      0.62      0.67        47\n",
            "           1       0.61      0.72      0.66        39\n",
            "\n",
            "    accuracy                           0.66        86\n",
            "   macro avg       0.67      0.67      0.66        86\n",
            "weighted avg       0.67      0.66      0.66        86\n",
            "\n"
          ]
        }
      ]
    },
    {
      "cell_type": "markdown",
      "metadata": {
        "id": "F1MyIgHI4eS-"
      },
      "source": [
        "### KN Neighbors Classifier"
      ]
    },
    {
      "cell_type": "code",
      "metadata": {
        "id": "YElYJWrM4eS-"
      },
      "source": [
        "from sklearn.neighbors import KNeighborsClassifier"
      ],
      "execution_count": 30,
      "outputs": []
    },
    {
      "cell_type": "code",
      "metadata": {
        "colab": {
          "base_uri": "https://localhost:8080/"
        },
        "id": "0Y2_TTM94eS-",
        "outputId": "640267a1-02ac-4d13-a798-00d99d6cc0de"
      },
      "source": [
        "model_kn = KNeighborsClassifier()\n",
        "model_kn.fit(x_train, y_train)"
      ],
      "execution_count": 31,
      "outputs": [
        {
          "output_type": "execute_result",
          "data": {
            "text/plain": [
              "KNeighborsClassifier()"
            ]
          },
          "metadata": {},
          "execution_count": 31
        }
      ]
    },
    {
      "cell_type": "code",
      "metadata": {
        "colab": {
          "base_uri": "https://localhost:8080/"
        },
        "id": "YHGdPXno4eS-",
        "outputId": "18865d58-5a56-4f7c-bfde-c0cbc16cd813"
      },
      "source": [
        "prediction_kn = model_kn.predict(x_test)\n",
        "print(classification_report(y_test, prediction_kn))"
      ],
      "execution_count": 32,
      "outputs": [
        {
          "output_type": "stream",
          "name": "stdout",
          "text": [
            "              precision    recall  f1-score   support\n",
            "\n",
            "           0       0.70      0.55      0.62        47\n",
            "           1       0.57      0.72      0.64        39\n",
            "\n",
            "    accuracy                           0.63        86\n",
            "   macro avg       0.64      0.64      0.63        86\n",
            "weighted avg       0.64      0.63      0.63        86\n",
            "\n"
          ]
        }
      ]
    },
    {
      "cell_type": "markdown",
      "metadata": {
        "id": "08dhwJ0U4eS_"
      },
      "source": [
        "### Random Forest Classifier"
      ]
    },
    {
      "cell_type": "code",
      "metadata": {
        "id": "fZwa2qbn4eS_"
      },
      "source": [
        "from sklearn.ensemble import RandomForestClassifier"
      ],
      "execution_count": 33,
      "outputs": []
    },
    {
      "cell_type": "code",
      "metadata": {
        "colab": {
          "base_uri": "https://localhost:8080/"
        },
        "id": "UFJlptgN4eS_",
        "outputId": "d8a2ac5d-6e2b-4200-996b-4864e160dbfc"
      },
      "source": [
        "model_rf = RandomForestClassifier()\n",
        "model_rf.fit(x_train, y_train)"
      ],
      "execution_count": 34,
      "outputs": [
        {
          "output_type": "execute_result",
          "data": {
            "text/plain": [
              "RandomForestClassifier()"
            ]
          },
          "metadata": {},
          "execution_count": 34
        }
      ]
    },
    {
      "cell_type": "code",
      "metadata": {
        "colab": {
          "base_uri": "https://localhost:8080/"
        },
        "id": "Mfi_5erD4eS_",
        "outputId": "2878668e-4840-4f54-fc31-406a97c89365"
      },
      "source": [
        "prediction_rf = model_rf.predict(x_test)\n",
        "print(classification_report(y_test, prediction_rf))"
      ],
      "execution_count": 35,
      "outputs": [
        {
          "output_type": "stream",
          "name": "stdout",
          "text": [
            "              precision    recall  f1-score   support\n",
            "\n",
            "           0       0.90      0.74      0.81        47\n",
            "           1       0.74      0.90      0.81        39\n",
            "\n",
            "    accuracy                           0.81        86\n",
            "   macro avg       0.82      0.82      0.81        86\n",
            "weighted avg       0.83      0.81      0.81        86\n",
            "\n"
          ]
        }
      ]
    },
    {
      "cell_type": "markdown",
      "metadata": {
        "id": "zJJzj1L74eS_"
      },
      "source": [
        "### Naive Bayes"
      ]
    },
    {
      "cell_type": "code",
      "metadata": {
        "id": "16JTZQXm4eS_"
      },
      "source": [
        "from sklearn.naive_bayes import GaussianNB"
      ],
      "execution_count": 36,
      "outputs": []
    },
    {
      "cell_type": "code",
      "metadata": {
        "colab": {
          "base_uri": "https://localhost:8080/"
        },
        "id": "x9shkNsV4eS_",
        "outputId": "72b83292-5e86-486d-f075-d40057efd2bd"
      },
      "source": [
        "model_nb = GaussianNB()\n",
        "model_nb.fit(x_train, y_train)"
      ],
      "execution_count": 37,
      "outputs": [
        {
          "output_type": "execute_result",
          "data": {
            "text/plain": [
              "GaussianNB()"
            ]
          },
          "metadata": {},
          "execution_count": 37
        }
      ]
    },
    {
      "cell_type": "code",
      "metadata": {
        "colab": {
          "base_uri": "https://localhost:8080/"
        },
        "id": "72hJW0cs4eTA",
        "outputId": "8a3bfb28-0a43-4378-833c-576f73efbf84"
      },
      "source": [
        "prediction_nb = model_nb.predict(x_test)\n",
        "print(classification_report(y_test, prediction_nb))"
      ],
      "execution_count": 38,
      "outputs": [
        {
          "output_type": "stream",
          "name": "stdout",
          "text": [
            "              precision    recall  f1-score   support\n",
            "\n",
            "           0       0.81      0.74      0.78        47\n",
            "           1       0.72      0.79      0.76        39\n",
            "\n",
            "    accuracy                           0.77        86\n",
            "   macro avg       0.77      0.77      0.77        86\n",
            "weighted avg       0.77      0.77      0.77        86\n",
            "\n"
          ]
        }
      ]
    },
    {
      "cell_type": "markdown",
      "metadata": {
        "id": "olj416lm4eTA"
      },
      "source": [
        "### Support Vector Machine"
      ]
    },
    {
      "cell_type": "code",
      "metadata": {
        "id": "P71pe92K4eTA"
      },
      "source": [
        "from sklearn.svm import SVC"
      ],
      "execution_count": 39,
      "outputs": []
    },
    {
      "cell_type": "code",
      "metadata": {
        "colab": {
          "base_uri": "https://localhost:8080/"
        },
        "id": "aHK7UUA64eTA",
        "outputId": "5bb33077-016e-4566-9098-a06f898c23f1"
      },
      "source": [
        "model_sv = SVC()\n",
        "model_sv.fit(x_train, y_train)"
      ],
      "execution_count": 40,
      "outputs": [
        {
          "output_type": "execute_result",
          "data": {
            "text/plain": [
              "SVC()"
            ]
          },
          "metadata": {},
          "execution_count": 40
        }
      ]
    },
    {
      "cell_type": "code",
      "metadata": {
        "colab": {
          "base_uri": "https://localhost:8080/"
        },
        "id": "aCGco4ZE4eTA",
        "outputId": "070ad52a-2fe2-4943-ca86-8961f84d23fd"
      },
      "source": [
        "prediction_sv = model_sv.predict(x_test)\n",
        "print(classification_report(y_test, prediction_sv))"
      ],
      "execution_count": 41,
      "outputs": [
        {
          "output_type": "stream",
          "name": "stdout",
          "text": [
            "              precision    recall  f1-score   support\n",
            "\n",
            "           0       0.75      0.32      0.45        47\n",
            "           1       0.52      0.87      0.65        39\n",
            "\n",
            "    accuracy                           0.57        86\n",
            "   macro avg       0.63      0.60      0.55        86\n",
            "weighted avg       0.64      0.57      0.54        86\n",
            "\n"
          ]
        }
      ]
    },
    {
      "cell_type": "markdown",
      "metadata": {
        "id": "M6H5P_P1ayJj"
      },
      "source": [
        "### Pemilihan Model\n",
        "\n",
        "dari kelima model yang dicoba diatas, \\\n",
        "Logistic Regression menunjukkan performa dengan akurasi dan recall yang baik. Aritnya,model ini mampu memberikan prediksi data dengan lebih akurat pada kelas positif maupun kelas negatif. Hasil dari confusion matrix yang menunjukkan False Negative rendah juga menunjukkan performa model ini. \\\n",
        "Dalam use case/kasus ini dimana kita menggunakan model untuk prediksi penyakit jantung. Oleh karena itu model diharapkan untuk memiliki akurasi bagus di true positive dan true negative sekaligus juga menekan jumlah false negative dan false postive. Meskipun akurasi model dibawah 90%, yang mana untuk prediksi dalam kasus kesehatan termasuk di bawah setandar, namun model ini masih dapat diandalkan karena penekanan jumlah False negative. \\\n",
        "Artinya model tidak 'meloloskan' pasien dengan penyakit jantung yang diprediksi tidak memiliki penyakit jantung sehingga mengurangi resiko orang dengan penyakit jantung yang tidak terdeteksi. adapun dengan false positive, dapat dilakukan tes ulang ataupun tes lain yang dapat lebih akurat memberikan prediksi. \\\n",
        "Performa baik model Logistic Regression salah satunya didukung oleh jumlah dataset yang kecil (301 entri) dan juga jumlah kolom feature yang sedikit (13 kolom) dengan jenis data yang seragam yaitu numerik. Model Logistic Regression memang memiliki keunggulan untuk mengolah data numerik dalam dimensi yang kecil sehingga dapat menghasilkan prediksi yang lebih akurat.\n"
      ]
    }
  ]
}