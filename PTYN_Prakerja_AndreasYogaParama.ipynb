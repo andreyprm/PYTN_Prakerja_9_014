{
  "nbformat": 4,
  "nbformat_minor": 0,
  "metadata": {
    "kernelspec": {
      "display_name": "Python 3",
      "language": "python",
      "name": "python3"
    },
    "language_info": {
      "codemirror_mode": {
        "name": "ipython",
        "version": 3
      },
      "file_extension": ".py",
      "mimetype": "text/x-python",
      "name": "python",
      "nbconvert_exporter": "python",
      "pygments_lexer": "ipython3",
      "version": "3.7.4"
    },
    "colab": {
      "name": "PTYN_Prakerja_AndreasYogaParama.ipynb",
      "provenance": [],
      "collapsed_sections": [
        "F1MyIgHI4eS-",
        "zJJzj1L74eS_"
      ],
      "include_colab_link": true
    }
  },
  "cells": [
    {
      "cell_type": "markdown",
      "metadata": {
        "id": "view-in-github",
        "colab_type": "text"
      },
      "source": [
        "<a href=\"https://colab.research.google.com/github/andreyprm/PYTN_Prakerja_9_014/blob/main/PTYN_Prakerja_AndreasYogaParama.ipynb\" target=\"_parent\"><img src=\"https://colab.research.google.com/assets/colab-badge.svg\" alt=\"Open In Colab\"/></a>"
      ]
    },
    {
      "cell_type": "markdown",
      "metadata": {
        "id": "iulBOiML4eSm"
      },
      "source": [
        "<b>Hacktiv8 Kartu Prakerja Final Project Notebook</b>\n",
        "    \n",
        "Dalam notebook ini saya mengerjakan proyek akhir dari <b> Hacktiv8 Kartu Prakerja course \"Belajar Mengembangkan Model Database dengan Python untuk Menjadi Analis Database\"</b>.\\\n",
        "Dataset yang dipakai berjudul \"Heart Disease UCI\" yang diunduh dari : \\\n",
        "https://www.kaggle.com/ronitf/heart-disease-uci\n",
        "\n"
      ]
    },
    {
      "cell_type": "markdown",
      "metadata": {
        "id": "DQvK1Blt4eSs"
      },
      "source": [
        "<b>Feature attribute information</b>\n",
        "\n",
        "1.\tage: usia dalam tahun\n",
        "2.\tsex: jenis kelamin (1 = laki-laki, 0 = perempuan)\n",
        "3.\tcp: tipe penyakit dada yg dialami (Value 1: typical angina, Value 2: atypical angina, Value 3: non-anginal pain, Value 4: asymptomatic)\n",
        "4.\ttrestbps: tekanan darah kondisi normal (mm Hg saat masuk rumah sakit)\n",
        "5.\tchol: tingkat kolestrol dalam mg/dl\n",
        "6.\tfbs: gula darah dalam kondisi puasa (> 120 mg/dl, 1 = true; 0 = false)\n",
        "7.\trestecg: pengukuran elektrokardiograf\n",
        "<br>(0 = normal, 1 = having ST-T wave abnormality, 2 = showing probable or definite left ventricular hypertrophy by Estes' criteria)\n",
        "8.\tthalach: jumlah detak jantung maksimum\n",
        "9.\texang: Exercise induced angina (1 = yes; 0 = no)\n",
        "10.\toldpeak: ST depression induced by exercise relative to rest ('ST' relates to positions on the ECG plot. See more here)\n",
        "11.\tslope: the slope of the peak exercise ST segment (Value 1: upsloping, Value 2: flat, Value 3: downsloping)\n",
        "12.\tca: The number of major vessels (0-3)\n",
        "13.\tthal: kelainan darah berupa thalassemia (3 = normal; 6 = fixed defect; 7 = reversable defect)\n",
        "14.\ttarget: keadaan penyakit jantung (0 = no/tidak ada, 1 = yes/ada)"
      ]
    },
    {
      "cell_type": "code",
      "metadata": {
        "id": "mJZciJfh4eSt"
      },
      "source": [
        "import pandas as pd\n",
        "import numpy as np\n",
        "import matplotlib.pyplot as plt\n",
        "import seaborn as sns\n",
        "%matplotlib inline\n",
        "\n",
        "import warnings\n",
        "warnings.filterwarnings(\"ignore\")"
      ],
      "execution_count": 1,
      "outputs": []
    },
    {
      "cell_type": "markdown",
      "metadata": {
        "id": "ys0mw0I54eSv"
      },
      "source": [
        "### import dataset"
      ]
    },
    {
      "cell_type": "code",
      "metadata": {
        "colab": {
          "base_uri": "https://localhost:8080/",
          "height": 206
        },
        "id": "KznBpPY04eSw",
        "outputId": "684154b5-0067-4e1c-b299-137648f71a30"
      },
      "source": [
        "url = 'https://drive.google.com/file/d/1mJ-noOJI3CmBdGdttYdWDC5lxT4zM-9z/view?usp=sharing'\n",
        "url = 'https://drive.google.com/uc?id=' + url.split('/')[-2]\n",
        "df = pd.read_csv(url)\n",
        "df.head()"
      ],
      "execution_count": 10,
      "outputs": [
        {
          "output_type": "execute_result",
          "data": {
            "text/html": [
              "<div>\n",
              "<style scoped>\n",
              "    .dataframe tbody tr th:only-of-type {\n",
              "        vertical-align: middle;\n",
              "    }\n",
              "\n",
              "    .dataframe tbody tr th {\n",
              "        vertical-align: top;\n",
              "    }\n",
              "\n",
              "    .dataframe thead th {\n",
              "        text-align: right;\n",
              "    }\n",
              "</style>\n",
              "<table border=\"1\" class=\"dataframe\">\n",
              "  <thead>\n",
              "    <tr style=\"text-align: right;\">\n",
              "      <th></th>\n",
              "      <th>age</th>\n",
              "      <th>sex</th>\n",
              "      <th>cp</th>\n",
              "      <th>trestbps</th>\n",
              "      <th>chol</th>\n",
              "      <th>fbs</th>\n",
              "      <th>restecg</th>\n",
              "      <th>thalach</th>\n",
              "      <th>exang</th>\n",
              "      <th>oldpeak</th>\n",
              "      <th>slope</th>\n",
              "      <th>ca</th>\n",
              "      <th>thal</th>\n",
              "      <th>target</th>\n",
              "    </tr>\n",
              "  </thead>\n",
              "  <tbody>\n",
              "    <tr>\n",
              "      <th>0</th>\n",
              "      <td>63</td>\n",
              "      <td>1</td>\n",
              "      <td>3</td>\n",
              "      <td>145</td>\n",
              "      <td>233</td>\n",
              "      <td>1</td>\n",
              "      <td>0</td>\n",
              "      <td>150</td>\n",
              "      <td>0</td>\n",
              "      <td>2.3</td>\n",
              "      <td>0</td>\n",
              "      <td>0</td>\n",
              "      <td>1</td>\n",
              "      <td>1</td>\n",
              "    </tr>\n",
              "    <tr>\n",
              "      <th>1</th>\n",
              "      <td>37</td>\n",
              "      <td>1</td>\n",
              "      <td>2</td>\n",
              "      <td>130</td>\n",
              "      <td>250</td>\n",
              "      <td>0</td>\n",
              "      <td>1</td>\n",
              "      <td>187</td>\n",
              "      <td>0</td>\n",
              "      <td>3.5</td>\n",
              "      <td>0</td>\n",
              "      <td>0</td>\n",
              "      <td>2</td>\n",
              "      <td>1</td>\n",
              "    </tr>\n",
              "    <tr>\n",
              "      <th>2</th>\n",
              "      <td>41</td>\n",
              "      <td>0</td>\n",
              "      <td>1</td>\n",
              "      <td>130</td>\n",
              "      <td>204</td>\n",
              "      <td>0</td>\n",
              "      <td>0</td>\n",
              "      <td>172</td>\n",
              "      <td>0</td>\n",
              "      <td>1.4</td>\n",
              "      <td>2</td>\n",
              "      <td>0</td>\n",
              "      <td>2</td>\n",
              "      <td>1</td>\n",
              "    </tr>\n",
              "    <tr>\n",
              "      <th>3</th>\n",
              "      <td>56</td>\n",
              "      <td>1</td>\n",
              "      <td>1</td>\n",
              "      <td>120</td>\n",
              "      <td>236</td>\n",
              "      <td>0</td>\n",
              "      <td>1</td>\n",
              "      <td>178</td>\n",
              "      <td>0</td>\n",
              "      <td>0.8</td>\n",
              "      <td>2</td>\n",
              "      <td>0</td>\n",
              "      <td>2</td>\n",
              "      <td>1</td>\n",
              "    </tr>\n",
              "    <tr>\n",
              "      <th>4</th>\n",
              "      <td>57</td>\n",
              "      <td>0</td>\n",
              "      <td>0</td>\n",
              "      <td>120</td>\n",
              "      <td>354</td>\n",
              "      <td>0</td>\n",
              "      <td>1</td>\n",
              "      <td>163</td>\n",
              "      <td>1</td>\n",
              "      <td>0.6</td>\n",
              "      <td>2</td>\n",
              "      <td>0</td>\n",
              "      <td>2</td>\n",
              "      <td>1</td>\n",
              "    </tr>\n",
              "  </tbody>\n",
              "</table>\n",
              "</div>"
            ],
            "text/plain": [
              "   age  sex  cp  trestbps  chol  fbs  ...  exang  oldpeak  slope  ca  thal  target\n",
              "0   63    1   3       145   233    1  ...      0      2.3      0   0     1       1\n",
              "1   37    1   2       130   250    0  ...      0      3.5      0   0     2       1\n",
              "2   41    0   1       130   204    0  ...      0      1.4      2   0     2       1\n",
              "3   56    1   1       120   236    0  ...      0      0.8      2   0     2       1\n",
              "4   57    0   0       120   354    0  ...      1      0.6      2   0     2       1\n",
              "\n",
              "[5 rows x 14 columns]"
            ]
          },
          "metadata": {},
          "execution_count": 10
        }
      ]
    },
    {
      "cell_type": "code",
      "metadata": {
        "colab": {
          "base_uri": "https://localhost:8080/"
        },
        "id": "6b105x354eSy",
        "outputId": "abdc6467-fd09-43d0-85e9-143b8dffd1e2"
      },
      "source": [
        "df.shape"
      ],
      "execution_count": 3,
      "outputs": [
        {
          "output_type": "execute_result",
          "data": {
            "text/plain": [
              "(303, 14)"
            ]
          },
          "metadata": {},
          "execution_count": 3
        }
      ]
    },
    {
      "cell_type": "code",
      "metadata": {
        "colab": {
          "base_uri": "https://localhost:8080/"
        },
        "id": "wpjpOwsb4eSy",
        "outputId": "b9a8d82f-74b1-4192-b1bb-dfe23ad2cd53"
      },
      "source": [
        "df.info()"
      ],
      "execution_count": 4,
      "outputs": [
        {
          "output_type": "stream",
          "name": "stdout",
          "text": [
            "<class 'pandas.core.frame.DataFrame'>\n",
            "RangeIndex: 303 entries, 0 to 302\n",
            "Data columns (total 14 columns):\n",
            " #   Column    Non-Null Count  Dtype  \n",
            "---  ------    --------------  -----  \n",
            " 0   age       303 non-null    int64  \n",
            " 1   sex       303 non-null    int64  \n",
            " 2   cp        303 non-null    int64  \n",
            " 3   trestbps  303 non-null    int64  \n",
            " 4   chol      303 non-null    int64  \n",
            " 5   fbs       303 non-null    int64  \n",
            " 6   restecg   303 non-null    int64  \n",
            " 7   thalach   303 non-null    int64  \n",
            " 8   exang     303 non-null    int64  \n",
            " 9   oldpeak   303 non-null    float64\n",
            " 10  slope     303 non-null    int64  \n",
            " 11  ca        303 non-null    int64  \n",
            " 12  thal      303 non-null    int64  \n",
            " 13  target    303 non-null    int64  \n",
            "dtypes: float64(1), int64(13)\n",
            "memory usage: 33.3 KB\n"
          ]
        }
      ]
    },
    {
      "cell_type": "markdown",
      "metadata": {
        "id": "fXjDXoPZ_z1e"
      },
      "source": [
        "dari informasi diatas diketahui bahwa dataset terdiri atas 303 baris/entri dan tidak mengandung data kosong atau null value. Jenis data semuanya numerik, meskipun ada yang berupa data kontinu dan ada yang diskrit(kategori)."
      ]
    },
    {
      "cell_type": "markdown",
      "metadata": {
        "id": "65u6fvww4eSz"
      },
      "source": [
        "<b>Comparing Negative and Positive Class on Target column.</b>"
      ]
    },
    {
      "cell_type": "code",
      "metadata": {
        "id": "z7DPBgcRLb6j"
      },
      "source": [
        ""
      ],
      "execution_count": 5,
      "outputs": []
    },
    {
      "cell_type": "code",
      "metadata": {
        "colab": {
          "base_uri": "https://localhost:8080/",
          "height": 370
        },
        "id": "0FcenAPC4eS0",
        "outputId": "562dabbf-bbd2-4b22-f31e-6355c6cc3fc9"
      },
      "source": [
        ""
      ],
      "execution_count": 6,
      "outputs": [
        {
          "output_type": "stream",
          "name": "stdout",
          "text": [
            "target class count :\n",
            "Yes    165\n",
            "No     138\n",
            "Name: target, dtype: int64\n"
          ]
        },
        {
          "output_type": "display_data",
          "data": {
            "image/png": "[encoded data removed]",
            "text/plain": [
              "<Figure size 432x288 with 1 Axes>"
            ]
          },
          "metadata": {
            "needs_background": "light"
          }
        },
        {
          "output_type": "stream",
          "name": "stdout",
          "text": [
            "AxesSubplot(0.125,0.125;0.775x0.755)\n"
          ]
        }
      ]
    },
    {
      "cell_type": "markdown",
      "metadata": {
        "id": "jgo8lNhz4eS1"
      },
      "source": [
        "## Data Explorations"
      ]
    },
    {
      "cell_type": "markdown",
      "metadata": {
        "id": "BL3eGXbu4eS2"
      },
      "source": [
        ""
      ]
    },
    {
      "cell_type": "code",
      "metadata": {
        "colab": {
          "base_uri": "https://localhost:8080/"
        },
        "id": "39dCms08Badr",
        "outputId": "d8cc4fa1-7b39-43a4-c0f2-44fb11e409b3"
      },
      "source": [
        "df_corr = df.corr()\n",
        "df_corr['target'][:-1]"
      ],
      "execution_count": 11,
      "outputs": [
        {
          "output_type": "execute_result",
          "data": {
            "text/plain": [
              "age        -0.225439\n",
              "sex        -0.280937\n",
              "cp          0.433798\n",
              "trestbps   -0.144931\n",
              "chol       -0.085239\n",
              "fbs        -0.028046\n",
              "restecg     0.137230\n",
              "thalach     0.421741\n",
              "exang      -0.436757\n",
              "oldpeak    -0.430696\n",
              "slope       0.345877\n",
              "ca         -0.391724\n",
              "thal       -0.344029\n",
              "Name: target, dtype: float64"
            ]
          },
          "metadata": {},
          "execution_count": 11
        }
      ]
    },
    {
      "cell_type": "code",
      "metadata": {
        "colab": {
          "base_uri": "https://localhost:8080/",
          "height": 279
        },
        "id": "w3LYw8ic4eS3",
        "outputId": "4bd79b2c-157f-4d67-9342-eebd68cb0c97"
      },
      "source": [
        "sns.set_style('darkgrid')\n",
        "sns.distplot(df_g['age'])\n",
        "plt.show()"
      ],
      "execution_count": 12,
      "outputs": [
        {
          "output_type": "display_data",
          "data": {
            "image/png": "[encoded data removed]",
            "text/plain": [
              "<Figure size 432x288 with 1 Axes>"
            ]
          },
          "metadata": {}
        }
      ]
    },
    {
      "cell_type": "code",
      "metadata": {
        "id": "DjeBlEYOU5Lc"
      },
      "source": [
        "df_g = df\n",
        "\n",
        "df_g['target'] = df_g['target'].map({0:'No',\n",
        "                                 1:'Yes'})\n",
        "\n",
        "df_g['sex'] = df_g['sex'].map({0:'Perempuan',\n",
        "                           1:'Laki-Laki'})"
      ],
      "execution_count": 14,
      "outputs": []
    },
    {
      "cell_type": "code",
      "metadata": {
        "colab": {
          "base_uri": "https://localhost:8080/",
          "height": 370
        },
        "id": "2KOTRQpKU5_r",
        "outputId": "a16bef7e-e71c-4174-cf66-4452e526137c"
      },
      "source": [
        "print('target class count :')\n",
        "print(df_g['target'].value_counts())\n",
        "\n",
        "graph1 = sns.countplot(df_g['target'])\n",
        "plt.show()\n",
        "print(graph1)"
      ],
      "execution_count": 15,
      "outputs": [
        {
          "output_type": "stream",
          "name": "stdout",
          "text": [
            "target class count :\n",
            "Yes    165\n",
            "No     138\n",
            "Name: target, dtype: int64\n"
          ]
        },
        {
          "output_type": "display_data",
          "data": {
            "image/png": "[encoded data removed]",
            "text/plain": [
              "<Figure size 432x288 with 1 Axes>"
            ]
          },
          "metadata": {}
        },
        {
          "output_type": "stream",
          "name": "stdout",
          "text": [
            "AxesSubplot(0.125,0.125;0.775x0.755)\n"
          ]
        }
      ]
    },
    {
      "cell_type": "code",
      "metadata": {
        "colab": {
          "base_uri": "https://localhost:8080/",
          "height": 477
        },
        "id": "lEi3fscNNR8U",
        "outputId": "b40cd0ba-4262-46a9-8cea-47fccd2aeade"
      },
      "source": [
        "print(df_g['sex'].value_counts(),'\\n')\n",
        "\n",
        "plt.figure(figsize=(8,6))\n",
        "sns.countplot(data=df, x='target',hue='sex', palette=\"RdBu\")\n",
        "plt.title(\"Target vs Sex Distribution\")\n",
        "plt.xlabel(\"sex\")\n",
        "plt.ylabel(\"jumlah\")\n",
        "plt.show()"
      ],
      "execution_count": 16,
      "outputs": [
        {
          "output_type": "stream",
          "name": "stdout",
          "text": [
            "Laki-Laki    207\n",
            "Perempuan     96\n",
            "Name: sex, dtype: int64 \n",
            "\n"
          ]
        },
        {
          "output_type": "display_data",
          "data": {
            "image/png": "[encoded data removed]",
            "text/plain": [
              "<Figure size 576x432 with 1 Axes>"
            ]
          },
          "metadata": {}
        }
      ]
    },
    {
      "cell_type": "markdown",
      "metadata": {
        "id": "s2GtO3py4eS4"
      },
      "source": [
        "dari grafik diatas dapat diambil kesimpulan awal bahwa laki-laki memiliki kecenderungan lebih tinggi untuk memiliki penyakit jantung dibanding perempuan. Namun, kesimpulan ini dpat terjadi bis karena dalam dataset ini jumlah populasi laki-laki lebih dominan daripada perempuan."
      ]
    },
    {
      "cell_type": "code",
      "metadata": {
        "scrolled": false,
        "colab": {
          "base_uri": "https://localhost:8080/",
          "height": 582
        },
        "id": "TQw9iIKC4eS4",
        "outputId": "c3f84de3-71b7-4b71-ff56-a7988cb3b764"
      },
      "source": [
        "c = ['trestbps','chol']\n",
        "\n",
        "for i in c:\n",
        "    print(sns.boxplot(data=df[i], orient=\"h\", color='red'))\n",
        "    plt.title(i)\n",
        "    plt.show()"
      ],
      "execution_count": 17,
      "outputs": [
        {
          "output_type": "stream",
          "name": "stdout",
          "text": [
            "AxesSubplot(0.125,0.125;0.775x0.755)\n"
          ]
        },
        {
          "output_type": "display_data",
          "data": {
            "image/png": "[encoded data removed]",
            "text/plain": [
              "<Figure size 432x288 with 1 Axes>"
            ]
          },
          "metadata": {}
        },
        {
          "output_type": "stream",
          "name": "stdout",
          "text": [
            "AxesSubplot(0.125,0.125;0.775x0.755)\n"
          ]
        },
        {
          "output_type": "display_data",
          "data": {
            "image/png": "[encoded data removed]",
            "text/plain": [
              "<Figure size 432x288 with 1 Axes>"
            ]
          },
          "metadata": {}
        }
      ]
    },
    {
      "cell_type": "code",
      "metadata": {
        "id": "dI2n287I4eS5"
      },
      "source": [
        "Q1 = np.percentile(df['chol'], 25)\n",
        "Q3 = np.percentile(df['chol'], 75)\n",
        "IQR = Q3-Q1\n",
        "up_limit_ch = Q3 + (1.5 * IQR) \n",
        "lo_limit_ch = Q1 - (1.5 * IQR)"
      ],
      "execution_count": 18,
      "outputs": []
    },
    {
      "cell_type": "code",
      "metadata": {
        "id": "v65SBO294eS6"
      },
      "source": [
        "Q1 = np.percentile(df['trestbps'], 25)\n",
        "Q3 = np.percentile(df['trestbps'], 75)\n",
        "IQR = Q3-Q1\n",
        "up_limit_tr = Q3 + (1.5 * IQR) \n",
        "lo_limit_tr = Q1 - (1.5 * IQR)"
      ],
      "execution_count": 19,
      "outputs": []
    },
    {
      "cell_type": "code",
      "metadata": {
        "id": "6crWa2ke4eS6"
      },
      "source": [
        "df_a = df[(df['trestbps'] > lo_limit_tr) & (df['trestbps'] < up_limit_tr) & (df['chol'] > lo_limit_ch) & (df['chol'] < up_limit_ch)]"
      ],
      "execution_count": 20,
      "outputs": []
    },
    {
      "cell_type": "code",
      "metadata": {
        "id": "AdR1NvpH4eS6",
        "colab": {
          "base_uri": "https://localhost:8080/",
          "height": 582
        },
        "outputId": "a6575558-c43e-4873-8160-886d03940b97"
      },
      "source": [
        "for i in c:\n",
        "    print(sns.boxplot(data=df_a[i], orient=\"h\", color='red'))\n",
        "    plt.title(i)\n",
        "    plt.show()"
      ],
      "execution_count": 21,
      "outputs": [
        {
          "output_type": "stream",
          "name": "stdout",
          "text": [
            "AxesSubplot(0.125,0.125;0.775x0.755)\n"
          ]
        },
        {
          "output_type": "display_data",
          "data": {
            "image/png": "[encoded data removed]",
            "text/plain": [
              "<Figure size 432x288 with 1 Axes>"
            ]
          },
          "metadata": {}
        },
        {
          "output_type": "stream",
          "name": "stdout",
          "text": [
            "AxesSubplot(0.125,0.125;0.775x0.755)\n"
          ]
        },
        {
          "output_type": "display_data",
          "data": {
            "image/png": "[encoded data removed]",
            "text/plain": [
              "<Figure size 432x288 with 1 Axes>"
            ]
          },
          "metadata": {}
        }
      ]
    },
    {
      "cell_type": "markdown",
      "metadata": {
        "id": "dE5_P0WI-0OE"
      },
      "source": [
        "setelah kita menghapus outlier maka terlihat data di dua kolom tersebut sudah bersih dari data pencilan dimana sudah tidak ada poitn data yng jauh melewati garis batas atas maupun batas bawah."
      ]
    },
    {
      "cell_type": "markdown",
      "metadata": {
        "id": "eJibJBnV4eS7"
      },
      "source": [
        "### Train Test Split"
      ]
    },
    {
      "cell_type": "code",
      "metadata": {
        "id": "LkEYUESRQ-aT"
      },
      "source": [
        "df_a['target'] = df_a['target'].map({'Yes':1\n",
        "                                 ,'No':0})\n",
        "\n",
        "df_a['sex'] = df_a['sex'].map({'Perempuan':0,\n",
        "                           'Laki-Laki':1})"
      ],
      "execution_count": 22,
      "outputs": []
    },
    {
      "cell_type": "code",
      "metadata": {
        "id": "zmnSxJo14eS7"
      },
      "source": [
        "feature = df_a.drop('target', axis=1)\n",
        "target  = df_a['target']"
      ],
      "execution_count": 23,
      "outputs": []
    },
    {
      "cell_type": "code",
      "metadata": {
        "id": "u7pXvojz4eS7"
      },
      "source": [
        "from sklearn.model_selection import train_test_split\n",
        "\n",
        "x_train, x_test, y_train, y_test = train_test_split(feature, target, random_state=101, test_size=0.3)"
      ],
      "execution_count": 24,
      "outputs": []
    },
    {
      "cell_type": "code",
      "metadata": {
        "id": "MDTK1FP94eS8"
      },
      "source": [
        "from sklearn.metrics import classification_report, confusion_matrix"
      ],
      "execution_count": 53,
      "outputs": []
    },
    {
      "cell_type": "markdown",
      "metadata": {
        "id": "mniZ1EYY4eS8"
      },
      "source": [
        "### Logistic Regression"
      ]
    },
    {
      "cell_type": "code",
      "metadata": {
        "id": "0vsNZ-_z4eS8"
      },
      "source": [
        "from sklearn.linear_model import LogisticRegression"
      ],
      "execution_count": 26,
      "outputs": []
    },
    {
      "cell_type": "code",
      "metadata": {
        "scrolled": true,
        "colab": {
          "base_uri": "https://localhost:8080/"
        },
        "id": "UwB-MMdM4eS8",
        "outputId": "b4a4ef5b-6e26-415d-ec4b-825d637d7772"
      },
      "source": [
        "model_lr = LogisticRegression()\n",
        "model_lr.fit(x_train, y_train)"
      ],
      "execution_count": 27,
      "outputs": [
        {
          "output_type": "execute_result",
          "data": {
            "text/plain": [
              "LogisticRegression()"
            ]
          },
          "metadata": {},
          "execution_count": 27
        }
      ]
    },
    {
      "cell_type": "code",
      "metadata": {
        "colab": {
          "base_uri": "https://localhost:8080/"
        },
        "id": "-K7Wil1G4eS8",
        "outputId": "9014b64e-b5f0-4655-d266-db7e8819726c"
      },
      "source": [
        "prediction_lr = model_lr.predict(x_test)\n",
        "print(classification_report(y_test, prediction_lr))"
      ],
      "execution_count": 28,
      "outputs": [
        {
          "output_type": "stream",
          "name": "stdout",
          "text": [
            "              precision    recall  f1-score   support\n",
            "\n",
            "           0       0.94      0.70      0.80        47\n",
            "           1       0.73      0.95      0.82        39\n",
            "\n",
            "    accuracy                           0.81        86\n",
            "   macro avg       0.83      0.83      0.81        86\n",
            "weighted avg       0.84      0.81      0.81        86\n",
            "\n"
          ]
        }
      ]
    },
    {
      "cell_type": "markdown",
      "metadata": {
        "id": "fyGXeZAv6AUp"
      },
      "source": [
        "### AUC ROC Graph"
      ]
    },
    {
      "cell_type": "code",
      "metadata": {
        "id": "nOOGnHWk3d1B"
      },
      "source": [
        "from sklearn.metrics import roc_curve, auc"
      ],
      "execution_count": 29,
      "outputs": []
    },
    {
      "cell_type": "code",
      "metadata": {
        "colab": {
          "base_uri": "https://localhost:8080/"
        },
        "id": "SBOOfHx73eqJ",
        "outputId": "0695c27c-aa1b-4d54-9ad5-fee95fb38c50"
      },
      "source": [
        "probs = model_lr.predict_proba(x_test)\n",
        "probability = probs[:,1]\n",
        "fpr, tpr, threshold = roc_curve(y_test, probability, pos_label=1)\n",
        "auc_score = auc(fpr, tpr)\n",
        "auc_score"
      ],
      "execution_count": 30,
      "outputs": [
        {
          "output_type": "execute_result",
          "data": {
            "text/plain": [
              "0.8914348063284234"
            ]
          },
          "metadata": {},
          "execution_count": 30
        }
      ]
    },
    {
      "cell_type": "code",
      "metadata": {
        "colab": {
          "base_uri": "https://localhost:8080/",
          "height": 404
        },
        "id": "8RVWi99m3ei6",
        "outputId": "74caa081-e14f-4fce-de81-3c6e9f893aba"
      },
      "source": [
        "plt.figure(figsize=(6,6))\n",
        "plt.title('AUROC Graph')\n",
        "plt.plot(fpr, tpr, label='AUC : {}'.format(round(auc_score,2)))\n",
        "plt.plot([0,1], label='no skill')\n",
        "plt.xlabel('False Positive Rate')\n",
        "plt.ylabel('True Positive Rate')\n",
        "plt.show()\n"
      ],
      "execution_count": 32,
      "outputs": [
        {
          "output_type": "display_data",
          "data": {
            "image/png": "[encoded data removed]",
            "text/plain": [
              "<Figure size 432x432 with 1 Axes>"
            ]
          },
          "metadata": {}
        }
      ]
    },
    {
      "cell_type": "code",
      "metadata": {
        "colab": {
          "base_uri": "https://localhost:8080/",
          "height": 279
        },
        "id": "387CXyEL4eS9",
        "outputId": "c885dfa8-db6f-4091-f9a8-6c99e5f88af2"
      },
      "source": [
        "data = {'y_Actual':    y_test,\n",
        "        'y_Predicted': prediction_lr\n",
        "        }\n",
        "\n",
        "df_conf = pd.DataFrame(data, columns=['y_Actual','y_Predicted'])\n",
        "matrix = pd.crosstab(df_conf['y_Actual'], df_conf['y_Predicted'], rownames=['Actual'], colnames=['Predicted'])\n",
        "matrix\n",
        "sns.heatmap(matrix, annot=True, cmap='Greys')\n",
        "plt.show()"
      ],
      "execution_count": 52,
      "outputs": [
        {
          "output_type": "display_data",
          "data": {
            "image/png": "[encoded data removed]",
            "text/plain": [
              "<Figure size 432x288 with 2 Axes>"
            ]
          },
          "metadata": {}
        }
      ]
    },
    {
      "cell_type": "code",
      "metadata": {
        "colab": {
          "base_uri": "https://localhost:8080/",
          "height": 144
        },
        "id": "vmgdq58_KvUb",
        "outputId": "e0506bd1-67fa-40c8-9550-3aecda4b3b3f"
      },
      "source": [
        "confusion_matrix"
      ],
      "execution_count": 34,
      "outputs": [
        {
          "output_type": "execute_result",
          "data": {
            "text/html": [
              "<div>\n",
              "<style scoped>\n",
              "    .dataframe tbody tr th:only-of-type {\n",
              "        vertical-align: middle;\n",
              "    }\n",
              "\n",
              "    .dataframe tbody tr th {\n",
              "        vertical-align: top;\n",
              "    }\n",
              "\n",
              "    .dataframe thead th {\n",
              "        text-align: right;\n",
              "    }\n",
              "</style>\n",
              "<table border=\"1\" class=\"dataframe\">\n",
              "  <thead>\n",
              "    <tr style=\"text-align: right;\">\n",
              "      <th>Predicted</th>\n",
              "      <th>0</th>\n",
              "      <th>1</th>\n",
              "    </tr>\n",
              "    <tr>\n",
              "      <th>Actual</th>\n",
              "      <th></th>\n",
              "      <th></th>\n",
              "    </tr>\n",
              "  </thead>\n",
              "  <tbody>\n",
              "    <tr>\n",
              "      <th>0</th>\n",
              "      <td>33</td>\n",
              "      <td>14</td>\n",
              "    </tr>\n",
              "    <tr>\n",
              "      <th>1</th>\n",
              "      <td>2</td>\n",
              "      <td>37</td>\n",
              "    </tr>\n",
              "  </tbody>\n",
              "</table>\n",
              "</div>"
            ],
            "text/plain": [
              "Predicted   0   1\n",
              "Actual           \n",
              "0          33  14\n",
              "1           2  37"
            ]
          },
          "metadata": {},
          "execution_count": 34
        }
      ]
    },
    {
      "cell_type": "markdown",
      "metadata": {
        "id": "YDWo9JJR4eS9"
      },
      "source": [
        "### Decision Tree Classifier"
      ]
    },
    {
      "cell_type": "code",
      "metadata": {
        "id": "NioHsi7s4eS9"
      },
      "source": [
        "from sklearn.tree import DecisionTreeClassifier"
      ],
      "execution_count": 35,
      "outputs": []
    },
    {
      "cell_type": "code",
      "metadata": {
        "colab": {
          "base_uri": "https://localhost:8080/"
        },
        "id": "wFOVVZqy4eS9",
        "outputId": "199dcc46-cb86-4841-864f-64d84318a025"
      },
      "source": [
        "model_dt = DecisionTreeClassifier()\n",
        "model_dt.fit(x_train,y_train)"
      ],
      "execution_count": 36,
      "outputs": [
        {
          "output_type": "execute_result",
          "data": {
            "text/plain": [
              "DecisionTreeClassifier()"
            ]
          },
          "metadata": {},
          "execution_count": 36
        }
      ]
    },
    {
      "cell_type": "code",
      "metadata": {
        "colab": {
          "base_uri": "https://localhost:8080/"
        },
        "id": "dM10ThyN4eS9",
        "outputId": "87e8b37a-b2fa-4598-eeaa-d4bbfb0ba2cd"
      },
      "source": [
        "prediction_dt = model_dt.predict(x_test)\n",
        "print(classification_report(y_test, prediction_dt))"
      ],
      "execution_count": 37,
      "outputs": [
        {
          "output_type": "stream",
          "name": "stdout",
          "text": [
            "              precision    recall  f1-score   support\n",
            "\n",
            "           0       0.78      0.60      0.67        47\n",
            "           1       0.62      0.79      0.70        39\n",
            "\n",
            "    accuracy                           0.69        86\n",
            "   macro avg       0.70      0.70      0.69        86\n",
            "weighted avg       0.71      0.69      0.68        86\n",
            "\n"
          ]
        }
      ]
    },
    {
      "cell_type": "markdown",
      "metadata": {
        "id": "F1MyIgHI4eS-"
      },
      "source": [
        "### KN Neighbors Classifier"
      ]
    },
    {
      "cell_type": "code",
      "metadata": {
        "id": "YElYJWrM4eS-"
      },
      "source": [
        "from sklearn.neighbors import KNeighborsClassifier"
      ],
      "execution_count": 38,
      "outputs": []
    },
    {
      "cell_type": "code",
      "metadata": {
        "colab": {
          "base_uri": "https://localhost:8080/"
        },
        "id": "0Y2_TTM94eS-",
        "outputId": "bebbe6a0-f811-412c-aa6c-a2718632296a"
      },
      "source": [
        "model_kn = KNeighborsClassifier()\n",
        "model_kn.fit(x_train, y_train)"
      ],
      "execution_count": 39,
      "outputs": [
        {
          "output_type": "execute_result",
          "data": {
            "text/plain": [
              "KNeighborsClassifier()"
            ]
          },
          "metadata": {},
          "execution_count": 39
        }
      ]
    },
    {
      "cell_type": "code",
      "metadata": {
        "colab": {
          "base_uri": "https://localhost:8080/"
        },
        "id": "YHGdPXno4eS-",
        "outputId": "98fa1e3a-6303-4d3a-eb4a-d1e8bf4ad30f"
      },
      "source": [
        "prediction_kn = model_kn.predict(x_test)\n",
        "print(classification_report(y_test, prediction_kn))"
      ],
      "execution_count": 40,
      "outputs": [
        {
          "output_type": "stream",
          "name": "stdout",
          "text": [
            "              precision    recall  f1-score   support\n",
            "\n",
            "           0       0.70      0.55      0.62        47\n",
            "           1       0.57      0.72      0.64        39\n",
            "\n",
            "    accuracy                           0.63        86\n",
            "   macro avg       0.64      0.64      0.63        86\n",
            "weighted avg       0.64      0.63      0.63        86\n",
            "\n"
          ]
        }
      ]
    },
    {
      "cell_type": "markdown",
      "metadata": {
        "id": "08dhwJ0U4eS_"
      },
      "source": [
        "### Random Forest Classifier"
      ]
    },
    {
      "cell_type": "code",
      "metadata": {
        "id": "fZwa2qbn4eS_"
      },
      "source": [
        "from sklearn.ensemble import RandomForestClassifier"
      ],
      "execution_count": 41,
      "outputs": []
    },
    {
      "cell_type": "code",
      "metadata": {
        "colab": {
          "base_uri": "https://localhost:8080/"
        },
        "id": "UFJlptgN4eS_",
        "outputId": "55cec8bc-d26c-4999-c2d2-a252aa99bcfe"
      },
      "source": [
        "model_rf = RandomForestClassifier()\n",
        "model_rf.fit(x_train, y_train)"
      ],
      "execution_count": 42,
      "outputs": [
        {
          "output_type": "execute_result",
          "data": {
            "text/plain": [
              "RandomForestClassifier()"
            ]
          },
          "metadata": {},
          "execution_count": 42
        }
      ]
    },
    {
      "cell_type": "code",
      "metadata": {
        "colab": {
          "base_uri": "https://localhost:8080/"
        },
        "id": "Mfi_5erD4eS_",
        "outputId": "463f7fb7-1380-4555-f72b-92cf4cdc6e95"
      },
      "source": [
        "prediction_rf = model_rf.predict(x_test)\n",
        "print(classification_report(y_test, prediction_rf))"
      ],
      "execution_count": 43,
      "outputs": [
        {
          "output_type": "stream",
          "name": "stdout",
          "text": [
            "              precision    recall  f1-score   support\n",
            "\n",
            "           0       0.90      0.74      0.81        47\n",
            "           1       0.74      0.90      0.81        39\n",
            "\n",
            "    accuracy                           0.81        86\n",
            "   macro avg       0.82      0.82      0.81        86\n",
            "weighted avg       0.83      0.81      0.81        86\n",
            "\n"
          ]
        }
      ]
    },
    {
      "cell_type": "code",
      "metadata": {
        "colab": {
          "base_uri": "https://localhost:8080/",
          "height": 144
        },
        "id": "mxORvApDWrRt",
        "outputId": "799d1a0b-33e2-4e92-99be-0b9a5797c837"
      },
      "source": [
        "data = {'y_Actual':    y_test,\n",
        "        'y_Predicted': prediction_rf\n",
        "        }\n",
        "\n",
        "df_conf = pd.DataFrame(data, columns=['y_Actual','y_Predicted'])\n",
        "matrix = pd.crosstab(df_conf['y_Actual'], df_conf['y_Predicted'], rownames=['Actual'], colnames=['Predicted'])\n",
        "matrix"
      ],
      "execution_count": 56,
      "outputs": [
        {
          "output_type": "execute_result",
          "data": {
            "text/html": [
              "<div>\n",
              "<style scoped>\n",
              "    .dataframe tbody tr th:only-of-type {\n",
              "        vertical-align: middle;\n",
              "    }\n",
              "\n",
              "    .dataframe tbody tr th {\n",
              "        vertical-align: top;\n",
              "    }\n",
              "\n",
              "    .dataframe thead th {\n",
              "        text-align: right;\n",
              "    }\n",
              "</style>\n",
              "<table border=\"1\" class=\"dataframe\">\n",
              "  <thead>\n",
              "    <tr style=\"text-align: right;\">\n",
              "      <th>Predicted</th>\n",
              "      <th>0</th>\n",
              "      <th>1</th>\n",
              "    </tr>\n",
              "    <tr>\n",
              "      <th>Actual</th>\n",
              "      <th></th>\n",
              "      <th></th>\n",
              "    </tr>\n",
              "  </thead>\n",
              "  <tbody>\n",
              "    <tr>\n",
              "      <th>0</th>\n",
              "      <td>35</td>\n",
              "      <td>12</td>\n",
              "    </tr>\n",
              "    <tr>\n",
              "      <th>1</th>\n",
              "      <td>4</td>\n",
              "      <td>35</td>\n",
              "    </tr>\n",
              "  </tbody>\n",
              "</table>\n",
              "</div>"
            ],
            "text/plain": [
              "Predicted   0   1\n",
              "Actual           \n",
              "0          35  12\n",
              "1           4  35"
            ]
          },
          "metadata": {},
          "execution_count": 56
        }
      ]
    },
    {
      "cell_type": "markdown",
      "metadata": {
        "id": "zJJzj1L74eS_"
      },
      "source": [
        "### Naive Bayes"
      ]
    },
    {
      "cell_type": "code",
      "metadata": {
        "id": "16JTZQXm4eS_"
      },
      "source": [
        "from sklearn.naive_bayes import GaussianNB"
      ],
      "execution_count": 44,
      "outputs": []
    },
    {
      "cell_type": "code",
      "metadata": {
        "colab": {
          "base_uri": "https://localhost:8080/"
        },
        "id": "x9shkNsV4eS_",
        "outputId": "0a09eb3f-24cb-431d-d408-4273c617d2f0"
      },
      "source": [
        "model_nb = GaussianNB()\n",
        "model_nb.fit(x_train, y_train)"
      ],
      "execution_count": 45,
      "outputs": [
        {
          "output_type": "execute_result",
          "data": {
            "text/plain": [
              "GaussianNB()"
            ]
          },
          "metadata": {},
          "execution_count": 45
        }
      ]
    },
    {
      "cell_type": "code",
      "metadata": {
        "colab": {
          "base_uri": "https://localhost:8080/"
        },
        "id": "72hJW0cs4eTA",
        "outputId": "8d025077-e6b9-43d6-cf31-979ded20fedc"
      },
      "source": [
        "prediction_nb = model_nb.predict(x_test)\n",
        "print(classification_report(y_test, prediction_nb))"
      ],
      "execution_count": 46,
      "outputs": [
        {
          "output_type": "stream",
          "name": "stdout",
          "text": [
            "              precision    recall  f1-score   support\n",
            "\n",
            "           0       0.81      0.74      0.78        47\n",
            "           1       0.72      0.79      0.76        39\n",
            "\n",
            "    accuracy                           0.77        86\n",
            "   macro avg       0.77      0.77      0.77        86\n",
            "weighted avg       0.77      0.77      0.77        86\n",
            "\n"
          ]
        }
      ]
    },
    {
      "cell_type": "markdown",
      "metadata": {
        "id": "olj416lm4eTA"
      },
      "source": [
        "### Support Vector Machine"
      ]
    },
    {
      "cell_type": "code",
      "metadata": {
        "id": "P71pe92K4eTA"
      },
      "source": [
        "from sklearn.svm import SVC"
      ],
      "execution_count": 47,
      "outputs": []
    },
    {
      "cell_type": "code",
      "metadata": {
        "colab": {
          "base_uri": "https://localhost:8080/"
        },
        "id": "aHK7UUA64eTA",
        "outputId": "52d729a3-7793-453a-90b0-a7d5a226cbe9"
      },
      "source": [
        "model_sv = SVC()\n",
        "model_sv.fit(x_train, y_train)"
      ],
      "execution_count": 48,
      "outputs": [
        {
          "output_type": "execute_result",
          "data": {
            "text/plain": [
              "SVC()"
            ]
          },
          "metadata": {},
          "execution_count": 48
        }
      ]
    },
    {
      "cell_type": "code",
      "metadata": {
        "colab": {
          "base_uri": "https://localhost:8080/"
        },
        "id": "aCGco4ZE4eTA",
        "outputId": "f2ae27a1-018e-4c7a-9a09-4adc1973725a"
      },
      "source": [
        "prediction_sv = model_sv.predict(x_test)\n",
        "print(classification_report(y_test, prediction_sv))"
      ],
      "execution_count": 49,
      "outputs": [
        {
          "output_type": "stream",
          "name": "stdout",
          "text": [
            "              precision    recall  f1-score   support\n",
            "\n",
            "           0       0.75      0.32      0.45        47\n",
            "           1       0.52      0.87      0.65        39\n",
            "\n",
            "    accuracy                           0.57        86\n",
            "   macro avg       0.63      0.60      0.55        86\n",
            "weighted avg       0.64      0.57      0.54        86\n",
            "\n"
          ]
        }
      ]
    },
    {
      "cell_type": "code",
      "metadata": {
        "colab": {
          "base_uri": "https://localhost:8080/"
        },
        "id": "itl23nE4VkcM",
        "outputId": "f5bd4358-8722-4a4c-d383-e621a55fe738"
      },
      "source": [
        "confusion_matrix(y_test, prediction_sv)"
      ],
      "execution_count": 54,
      "outputs": [
        {
          "output_type": "execute_result",
          "data": {
            "text/plain": [
              "array([[15, 32],\n",
              "       [ 5, 34]])"
            ]
          },
          "metadata": {},
          "execution_count": 54
        }
      ]
    },
    {
      "cell_type": "code",
      "metadata": {
        "colab": {
          "base_uri": "https://localhost:8080/",
          "height": 144
        },
        "id": "y9PQulLQVprH",
        "outputId": "1bfac5cd-1103-481a-db16-781a3fe49ddd"
      },
      "source": [
        "data = {'y_Actual':    y_test,\n",
        "        'y_Predicted': prediction_sv\n",
        "        }\n",
        "\n",
        "df_conf = pd.DataFrame(data, columns=['y_Actual','y_Predicted'])\n",
        "matrix = pd.crosstab(df_conf['y_Actual'], df_conf['y_Predicted'], rownames=['Actual'], colnames=['Predicted'])\n",
        "matrix\n",
        "#sns.heatmap(matrix, annot=True, cmap='Greys')\n",
        "#plt.show()"
      ],
      "execution_count": 55,
      "outputs": [
        {
          "output_type": "execute_result",
          "data": {
            "text/html": [
              "<div>\n",
              "<style scoped>\n",
              "    .dataframe tbody tr th:only-of-type {\n",
              "        vertical-align: middle;\n",
              "    }\n",
              "\n",
              "    .dataframe tbody tr th {\n",
              "        vertical-align: top;\n",
              "    }\n",
              "\n",
              "    .dataframe thead th {\n",
              "        text-align: right;\n",
              "    }\n",
              "</style>\n",
              "<table border=\"1\" class=\"dataframe\">\n",
              "  <thead>\n",
              "    <tr style=\"text-align: right;\">\n",
              "      <th>Predicted</th>\n",
              "      <th>0</th>\n",
              "      <th>1</th>\n",
              "    </tr>\n",
              "    <tr>\n",
              "      <th>Actual</th>\n",
              "      <th></th>\n",
              "      <th></th>\n",
              "    </tr>\n",
              "  </thead>\n",
              "  <tbody>\n",
              "    <tr>\n",
              "      <th>0</th>\n",
              "      <td>15</td>\n",
              "      <td>32</td>\n",
              "    </tr>\n",
              "    <tr>\n",
              "      <th>1</th>\n",
              "      <td>5</td>\n",
              "      <td>34</td>\n",
              "    </tr>\n",
              "  </tbody>\n",
              "</table>\n",
              "</div>"
            ],
            "text/plain": [
              "Predicted   0   1\n",
              "Actual           \n",
              "0          15  32\n",
              "1           5  34"
            ]
          },
          "metadata": {},
          "execution_count": 55
        }
      ]
    },
    {
      "cell_type": "code",
      "metadata": {
        "id": "s2mY3r97WQM_"
      },
      "source": [
        ""
      ],
      "execution_count": null,
      "outputs": []
    }
  ]
}